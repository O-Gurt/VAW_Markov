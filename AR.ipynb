{
  "nbformat": 4,
  "nbformat_minor": 0,
  "metadata": {
    "colab": {
      "provenance": []
    },
    "kernelspec": {
      "name": "python3",
      "display_name": "Python 3"
    },
    "language_info": {
      "name": "python"
    }
  },
  "cells": [
    {
      "cell_type": "code",
      "execution_count": 1,
      "metadata": {
        "id": "5wXNTOOuD-mn"
      },
      "outputs": [],
      "source": [
        "import numpy as np\n",
        "import pandas as pd\n",
        "import matplotlib.pyplot as plt\n",
        "from sklearn.metrics import mean_squared_error as MSE\n",
        "from sklearn.neural_network import MLPRegressor"
      ]
    },
    {
      "cell_type": "code",
      "source": [
        "n_components=40\n",
        "def run_VAW(x_data, y_data):#передавать x_data надо с обрезкой до n\n",
        "    np.random.seed(2)\n",
        "    omega = np.random.normal(loc=0, scale=1, size=(n_components, d))\n",
        "    b = np.random.uniform(-np.pi, np.pi, n_components)\n",
        "    lam = 1\n",
        "    X = np.hstack((np.cos(x_data@omega.T + b),np.sin(x_data@omega.T + b)))\n",
        "    n = X.shape[0]\n",
        "\n",
        "    A=np.zeros((X.shape[1],X.shape[1]))\n",
        "    S=lam*np.eye(X.shape[1])\n",
        "    Z=np.zeros(X.shape[1])\n",
        "    A=X[:n][0].reshape(-1,1)@X[:n][0].reshape(1,-1)\n",
        "    S+=A\n",
        "    w=np.zeros((n, X.shape[1]))\n",
        "    for t in range(n - 1):\n",
        "        Z+=y_data[:n][t]*X[:n][t]\n",
        "        A=X[:n][t+1].reshape(-1,1)@X[:n][t+1].reshape(1,-1)\n",
        "        S+=A\n",
        "        w[t+1]=np.linalg.solve(S, Z)\n",
        "    w_hat=np.mean(w,axis=0)\n",
        "    return w_hat, omega, b"
      ],
      "metadata": {
        "id": "lclxAn7PFhjB"
      },
      "execution_count": 31,
      "outputs": []
    },
    {
      "cell_type": "code",
      "source": [
        "def run_MLPRegressor(x_data, y_data):\n",
        "    kr = MLPRegressor(warm_start = True)\n",
        "    kr.fit(x_data, y_data)\n",
        "    return kr"
      ],
      "metadata": {
        "id": "m_k2vET-Fq6m"
      },
      "execution_count": 3,
      "outputs": []
    },
    {
      "cell_type": "code",
      "source": [
        "for n in [10000, 50000, 100000]:\n",
        "  for s in [5, 15]:\n",
        "    print('n: ', n)\n",
        "    print('s: ', s)\n",
        "    d = 1\n",
        "    np.random.seed(2)\n",
        "    eps = np.random.multivariate_normal(np.zeros(d), np.eye(d), n+s)\n",
        "    kappa = 0.99\n",
        "    beta = 0.1\n",
        "    Q = np.eye(d)\n",
        "    dt = 1\n",
        "    B = np.sqrt(dt)*np.eye(d)\n",
        "    x = np.zeros((n + s, d))\n",
        "    y = np.zeros(n)\n",
        "\n",
        "    def g(x):\n",
        "        return np.exp(-(beta*(np.dot(x,x)))/ 2)\n",
        "\n",
        "    def sigma(t):\n",
        "        return np.sum([kappa**(2*j)*np.linalg.matrix_power(Q, j)@B@B.T@np.linalg.matrix_power(Q.T, j)for j in range(t)], axis= 0)\n",
        "\n",
        "    def h(x):\n",
        "        return (1/np.sqrt(np.linalg.det(np.eye(d)+beta*sigma(s)))) * np.exp(-.5*kappa**(2*s)*beta*np.dot(np.linalg.inv(np.eye(d)+beta*sigma(s))@np.linalg.matrix_power(Q, s)@x, np.linalg.matrix_power(Q, s)@x))\n",
        "\n",
        "    for t in range(1, n + s):\n",
        "        x[t] = kappa*x[t-1] + eps[t]\n",
        "\n",
        "    for t in range(n):\n",
        "        y[t] = g(x[t + s])\n",
        "\n",
        "    x_test = np.random.multivariate_normal(np.zeros(d), sigma(1000), 1000)\n",
        "    x_test = np.sort(x_test, axis = 0)\n",
        "    h_test = np.array([h(xi) for xi in x_test])\n",
        "    z=x_test.reshape(-1,1)\n",
        "\n",
        "    mlp = run_MLPRegressor(x[:n], y)\n",
        "    mse_vaw = []\n",
        "    for i in range(3):\n",
        "        VAW = run_VAW(x[:n], y)\n",
        "        Z = np.hstack((np.cos(x_test@VAW[1].T + VAW[2]),np.sin(x_test@VAW[1].T + VAW[2])))\n",
        "        mse_vaw.append(MSE(h_test, Z@VAW[0].T))\n",
        "    print('MLP MSE: ', MSE(h_test, mlp.predict(z)))\n",
        "    print('VAW MSE: ', np.mean(mse_vaw))\n",
        "    print('\\n')"
      ],
      "metadata": {
        "colab": {
          "base_uri": "https://localhost:8080/"
        },
        "id": "iAEtuHwfJBei",
        "outputId": "89f0ffb8-5e7f-4432-dcb0-1b53f43a7b56"
      },
      "execution_count": 33,
      "outputs": [
        {
          "output_type": "stream",
          "name": "stdout",
          "text": [
            "n:  10000\n",
            "s:  5\n",
            "MLP MSE:  0.000676588708771084\n",
            "VAW MSE:  0.0002899161924353298\n",
            "\n",
            "\n",
            "n:  10000\n",
            "s:  15\n",
            "MLP MSE:  0.002526675677077377\n",
            "VAW MSE:  0.0007935895465133771\n",
            "\n",
            "\n",
            "n:  50000\n",
            "s:  5\n",
            "MLP MSE:  0.0008671853247891278\n",
            "VAW MSE:  0.00014534039237146986\n",
            "\n",
            "\n",
            "n:  50000\n",
            "s:  15\n",
            "MLP MSE:  0.0010945210642613144\n",
            "VAW MSE:  0.00048268021018892543\n",
            "\n",
            "\n",
            "n:  100000\n",
            "s:  5\n",
            "MLP MSE:  0.0008170432897570612\n",
            "VAW MSE:  8.019711932440235e-05\n",
            "\n",
            "\n",
            "n:  100000\n",
            "s:  15\n",
            "MLP MSE:  0.0009263488302603496\n",
            "VAW MSE:  0.00028045066733346145\n",
            "\n",
            "\n"
          ]
        }
      ]
    }
  ]
}